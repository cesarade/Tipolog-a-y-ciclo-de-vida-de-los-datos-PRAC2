{
 "cells": [
  {
   "cell_type": "markdown",
   "metadata": {},
   "source": [
    "# Práctica 2: Limpieza y validación de los datos\n"
   ]
  },
  {
   "cell_type": "code",
   "execution_count": 64,
   "metadata": {},
   "outputs": [],
   "source": [
    "import numpy as np\n",
    "import pandas as pd\n",
    "import matplotlib.pyplot as plt\n",
    "import seaborn as sns\n",
    "from sklearn.impute import KNNImputer\n",
    "\n",
    "from scipy.stats import normaltest,f_oneway, shapiro, chi2_contingency\n",
    "from scipy.stats import anderson\n",
    "from scipy.stats import ttest_ind"
   ]
  },
  {
   "cell_type": "markdown",
   "metadata": {},
   "source": [
    "## 1. Descripción del dataset.\n",
    "\n",
    "Los problemas cardíacos pueden tener un gran impacto en la calidad de vida de las personas y pueden requerir tratamientos costosos y prolongados. Por lo tanto, es importante entender qué factores pueden aumentar el riesgo de problemas cardíacos y cómo se pueden prevenir o tratar.\n",
    "\n",
    "Este dataset es interesante porque puede ser utilizado para entender mejor las características de las personas que tienen un mayor riesgo de sufrir una enfermedad cardíaca y para desarrollar estrategias para prevenir y tratar esta enfermedad. Los dataset como este son a menudo utilizados para entrenar modelos de machine learning que pueden predecir el riesgo de enfermedad cardíaca de una persona dado un conjunto de características de esa persona. Estos modelos pueden ser utilizados por profesionales de la salud para tomar decisiones sobre el tratamiento y la atención de los pacientes.\n",
    "\n",
    "El dataset contiene los siguientes campos:\n",
    "* age: edad de la persona.\n",
    "\n",
    "* sex: genero de la persona.\n",
    "\n",
    "* cp: tipo de dolor en el pecho.\n",
    "    * 1 angina típica.\n",
    "    * 2 angina atípica.\n",
    "    * 3 dolor no anginoso\n",
    "    * 4 asintomático.\n",
    "    \n",
    "* trtbps: presión arterial en reposo (en mm Hg).\n",
    "\n",
    "* chol: colesterol en mg/dl obtenido a través del sensor BMI.\n",
    "\n",
    "* fbs: (azúcar en sangre en ayunas > 120 mg/dl) (1 = verdadero; 0 = falso).\n",
    "\n",
    "* restecg: resultados electrocardiográficos en reposo.\n",
    "    * 0 normal\n",
    "    * 1 tener anomalías en la onda ST-T (inversiones de la onda T y/o elevación o depresión del ST > 0,05 mV)\n",
    "    * 2 mostrar hipertrofia ventricular izquierda probable o definitiva según los criterios de Estes.\n",
    "\n",
    "* thalachh: frecuencia cardíaca máxima alcanzada.\n",
    "\n",
    "* exng: angina inducida por el ejercicio (1 = sí; 0 = no).\n",
    "\n",
    "* oldpeak: pico anterior.\n",
    "\n",
    "* slp: pendiente.\n",
    "\n",
    "* caa: número de buques principales (0-3).\n",
    "    * 0 = sin buques importantes\n",
    "    * 1 = 1 buque principal\n",
    "    * 2 = 2 vasos principales\n",
    "    * 3 = 3 vasos principales\n",
    "\n",
    "* thall: talasemia\n",
    "    * 1 = defecto fijo\n",
    "    * 2 = normales\n",
    "    * 3 = defecto reversible\n",
    "\n",
    "* output: 0 menos posibilidades de infarto y 1 más posibilidades de infarto.\n",
    "\n",
    "La variable `output` es la variable objetivo, que indica si una persona tiene más o menos posibilidades de sufrir un infarto.\n",
    "\n",
    "El dataset se encuentra disponible  [aquí](https://www.kaggle.com/datasets/rashikrahmanpritom/heart-attack-analysis-prediction-dataset).\n",
    "\n",
    "Los datos recopilados en este conjunto de datos pueden ser utilizados para responder a preguntas y problemas específicos, como:\n",
    "\n",
    "* ¿Qué variables influyen más en el riesgo de padecer un infarto?\n",
    "* ¿Cómo es la relación entre la edad y la posibilidad de infarto ?\n",
    "* ¿Existe una relación entre el tipo de dolor en el pecho y la posibilidad de infarto en el dataset estudiado?\n",
    "* ¿Existe una relación entre el nivel de colesterol y la presión arterial en reposo en el dataset estudiado?\n",
    "* ¿Cómo afecta el nivel de colesterol en la presión arterial en reposo de una persona?\n"
   ]
  },
  {
   "cell_type": "markdown",
   "metadata": {},
   "source": [
    "## 2. Integración y selección\n",
    "\n",
    "Antes de comenzar con la limpieza de los datos, procedemos a realizar la lectura del archivo en formato CSV en el que se encuentran. Como se muestra a continuación:\n"
   ]
  },
  {
   "cell_type": "code",
   "execution_count": 2,
   "metadata": {},
   "outputs": [
    {
     "data": {
      "text/html": [
       "<div>\n",
       "<style scoped>\n",
       "    .dataframe tbody tr th:only-of-type {\n",
       "        vertical-align: middle;\n",
       "    }\n",
       "\n",
       "    .dataframe tbody tr th {\n",
       "        vertical-align: top;\n",
       "    }\n",
       "\n",
       "    .dataframe thead th {\n",
       "        text-align: right;\n",
       "    }\n",
       "</style>\n",
       "<table border=\"1\" class=\"dataframe\">\n",
       "  <thead>\n",
       "    <tr style=\"text-align: right;\">\n",
       "      <th></th>\n",
       "      <th>age</th>\n",
       "      <th>sex</th>\n",
       "      <th>cp</th>\n",
       "      <th>trtbps</th>\n",
       "      <th>chol</th>\n",
       "      <th>fbs</th>\n",
       "      <th>restecg</th>\n",
       "      <th>thalachh</th>\n",
       "      <th>exng</th>\n",
       "      <th>oldpeak</th>\n",
       "      <th>slp</th>\n",
       "      <th>caa</th>\n",
       "      <th>thall</th>\n",
       "      <th>output</th>\n",
       "    </tr>\n",
       "  </thead>\n",
       "  <tbody>\n",
       "    <tr>\n",
       "      <th>0</th>\n",
       "      <td>63</td>\n",
       "      <td>1</td>\n",
       "      <td>3</td>\n",
       "      <td>145</td>\n",
       "      <td>233</td>\n",
       "      <td>1</td>\n",
       "      <td>0</td>\n",
       "      <td>150</td>\n",
       "      <td>0</td>\n",
       "      <td>2.3</td>\n",
       "      <td>0</td>\n",
       "      <td>0</td>\n",
       "      <td>1</td>\n",
       "      <td>1</td>\n",
       "    </tr>\n",
       "    <tr>\n",
       "      <th>1</th>\n",
       "      <td>37</td>\n",
       "      <td>1</td>\n",
       "      <td>2</td>\n",
       "      <td>130</td>\n",
       "      <td>250</td>\n",
       "      <td>0</td>\n",
       "      <td>1</td>\n",
       "      <td>187</td>\n",
       "      <td>0</td>\n",
       "      <td>3.5</td>\n",
       "      <td>0</td>\n",
       "      <td>0</td>\n",
       "      <td>2</td>\n",
       "      <td>1</td>\n",
       "    </tr>\n",
       "    <tr>\n",
       "      <th>2</th>\n",
       "      <td>41</td>\n",
       "      <td>0</td>\n",
       "      <td>1</td>\n",
       "      <td>130</td>\n",
       "      <td>204</td>\n",
       "      <td>0</td>\n",
       "      <td>0</td>\n",
       "      <td>172</td>\n",
       "      <td>0</td>\n",
       "      <td>1.4</td>\n",
       "      <td>2</td>\n",
       "      <td>0</td>\n",
       "      <td>2</td>\n",
       "      <td>1</td>\n",
       "    </tr>\n",
       "    <tr>\n",
       "      <th>3</th>\n",
       "      <td>56</td>\n",
       "      <td>1</td>\n",
       "      <td>1</td>\n",
       "      <td>120</td>\n",
       "      <td>236</td>\n",
       "      <td>0</td>\n",
       "      <td>1</td>\n",
       "      <td>178</td>\n",
       "      <td>0</td>\n",
       "      <td>0.8</td>\n",
       "      <td>2</td>\n",
       "      <td>0</td>\n",
       "      <td>2</td>\n",
       "      <td>1</td>\n",
       "    </tr>\n",
       "    <tr>\n",
       "      <th>4</th>\n",
       "      <td>57</td>\n",
       "      <td>0</td>\n",
       "      <td>0</td>\n",
       "      <td>120</td>\n",
       "      <td>354</td>\n",
       "      <td>0</td>\n",
       "      <td>1</td>\n",
       "      <td>163</td>\n",
       "      <td>1</td>\n",
       "      <td>0.6</td>\n",
       "      <td>2</td>\n",
       "      <td>0</td>\n",
       "      <td>2</td>\n",
       "      <td>1</td>\n",
       "    </tr>\n",
       "  </tbody>\n",
       "</table>\n",
       "</div>"
      ],
      "text/plain": [
       "   age  sex  cp  trtbps  chol  fbs  restecg  thalachh  exng  oldpeak  slp  \\\n",
       "0   63    1   3     145   233    1        0       150     0      2.3    0   \n",
       "1   37    1   2     130   250    0        1       187     0      3.5    0   \n",
       "2   41    0   1     130   204    0        0       172     0      1.4    2   \n",
       "3   56    1   1     120   236    0        1       178     0      0.8    2   \n",
       "4   57    0   0     120   354    0        1       163     1      0.6    2   \n",
       "\n",
       "   caa  thall  output  \n",
       "0    0      1       1  \n",
       "1    0      2       1  \n",
       "2    0      2       1  \n",
       "3    0      2       1  \n",
       "4    0      2       1  "
      ]
     },
     "execution_count": 2,
     "metadata": {},
     "output_type": "execute_result"
    }
   ],
   "source": [
    "heart = pd.read_csv('heart.csv')\n",
    "heart.head(5)"
   ]
  },
  {
   "cell_type": "markdown",
   "metadata": {},
   "source": [
    "Es importante tener en cuenta el tipo de variable de cada columna en un conjunto de datos, ya que puede afectar la forma en que los datos se manipulan y se analizan."
   ]
  },
  {
   "cell_type": "code",
   "execution_count": 3,
   "metadata": {},
   "outputs": [
    {
     "name": "stdout",
     "output_type": "stream",
     "text": [
      "<class 'pandas.core.frame.DataFrame'>\n",
      "RangeIndex: 303 entries, 0 to 302\n",
      "Data columns (total 14 columns):\n",
      " #   Column    Non-Null Count  Dtype  \n",
      "---  ------    --------------  -----  \n",
      " 0   age       303 non-null    int64  \n",
      " 1   sex       303 non-null    int64  \n",
      " 2   cp        303 non-null    int64  \n",
      " 3   trtbps    303 non-null    int64  \n",
      " 4   chol      303 non-null    int64  \n",
      " 5   fbs       303 non-null    int64  \n",
      " 6   restecg   303 non-null    int64  \n",
      " 7   thalachh  303 non-null    int64  \n",
      " 8   exng      303 non-null    int64  \n",
      " 9   oldpeak   303 non-null    float64\n",
      " 10  slp       303 non-null    int64  \n",
      " 11  caa       303 non-null    int64  \n",
      " 12  thall     303 non-null    int64  \n",
      " 13  output    303 non-null    int64  \n",
      "dtypes: float64(1), int64(13)\n",
      "memory usage: 33.3 KB\n"
     ]
    }
   ],
   "source": [
    "heart.info()"
   ]
  },
  {
   "cell_type": "markdown",
   "metadata": {},
   "source": [
    "Una vez cargados los datos en la variable `heart`, se observa que todas las variables son de tipo `int64`, menos la variable `oldpeak` que es de tipo `float64`. También, se visualiza que no existen valores nulos en el dataset."
   ]
  },
  {
   "cell_type": "code",
   "execution_count": 4,
   "metadata": {},
   "outputs": [
    {
     "data": {
      "text/plain": [
       "age          41\n",
       "sex           2\n",
       "cp            4\n",
       "trtbps       49\n",
       "chol        152\n",
       "fbs           2\n",
       "restecg       3\n",
       "thalachh     91\n",
       "exng          2\n",
       "oldpeak      40\n",
       "slp           3\n",
       "caa           5\n",
       "thall         4\n",
       "output        2\n",
       "dtype: int64"
      ]
     },
     "execution_count": 4,
     "metadata": {},
     "output_type": "execute_result"
    }
   ],
   "source": [
    "heart.nunique()"
   ]
  },
  {
   "cell_type": "markdown",
   "metadata": {},
   "source": [
    "Al inspeccionar los valores de las variables, se observa que `caa` y `thall` son incorrectas. La variable `caa` solo debe tener valores de 0 a 3, pero el resultado muestra un total de 5, lo que significa que hay un valor adicional."
   ]
  },
  {
   "cell_type": "code",
   "execution_count": 5,
   "metadata": {},
   "outputs": [
    {
     "data": {
      "text/plain": [
       "0    175\n",
       "1     65\n",
       "2     38\n",
       "3     20\n",
       "4      5\n",
       "Name: caa, dtype: int64"
      ]
     },
     "execution_count": 5,
     "metadata": {},
     "output_type": "execute_result"
    }
   ],
   "source": [
    "heart.caa.value_counts()"
   ]
  },
  {
   "cell_type": "markdown",
   "metadata": {},
   "source": [
    "La variable `thall` solo debe tener valores del 1 al 3, pero el resultado muestra un total de 4, lo que significa que hay un valor adicional, como se muestra a continuación:"
   ]
  },
  {
   "cell_type": "code",
   "execution_count": 6,
   "metadata": {},
   "outputs": [
    {
     "data": {
      "text/plain": [
       "2    166\n",
       "3    117\n",
       "1     18\n",
       "0      2\n",
       "Name: thall, dtype: int64"
      ]
     },
     "execution_count": 6,
     "metadata": {},
     "output_type": "execute_result"
    }
   ],
   "source": [
    "heart.thall.value_counts()"
   ]
  },
  {
   "cell_type": "markdown",
   "metadata": {},
   "source": [
    "En la siguiente sección se corregirán los datos analizados."
   ]
  },
  {
   "cell_type": "markdown",
   "metadata": {},
   "source": [
    "## 3. Limpieza de datos\n",
    "\n",
    "Lo primero que se realizará es remplazar los valores erróneos de las variables `caa` y `thall` a través de kNN-imputation. Para esto se reemplazarán los valores erróneos por valores nulos."
   ]
  },
  {
   "cell_type": "code",
   "execution_count": 55,
   "metadata": {},
   "outputs": [
    {
     "data": {
      "text/plain": [
       "age         0\n",
       "sex         0\n",
       "cp          0\n",
       "trtbps      0\n",
       "chol        0\n",
       "fbs         0\n",
       "restecg     0\n",
       "thalachh    0\n",
       "exng        0\n",
       "oldpeak     0\n",
       "slp         0\n",
       "caa         5\n",
       "thall       2\n",
       "output      0\n",
       "dtype: int64"
      ]
     },
     "execution_count": 55,
     "metadata": {},
     "output_type": "execute_result"
    }
   ],
   "source": [
    "heart.loc[heart['caa'] == 4, 'caa'] = np.NaN\n",
    "heart.loc[heart['thall'] == 0, 'thall'] = np.NaN\n",
    "heart.isna().sum()"
   ]
  },
  {
   "cell_type": "markdown",
   "metadata": {},
   "source": [
    "Luego, se utilizará la clase `KNNImputer` de scikit-learn para completar los valores faltantes de las variables `caa` y `thall`, como se muestra a continuación:"
   ]
  },
  {
   "cell_type": "code",
   "execution_count": 56,
   "metadata": {},
   "outputs": [],
   "source": [
    "impKNN = KNNImputer(n_neighbors=5)\n",
    "newvalues = impKNN.fit_transform(heart[['caa', 'thall']])\n",
    "\n",
    "heartrecordimp = pd.DataFrame(newvalues, columns=['caa', 'thall'])"
   ]
  },
  {
   "cell_type": "code",
   "execution_count": 57,
   "metadata": {},
   "outputs": [
    {
     "data": {
      "text/plain": [
       "age         0\n",
       "sex         0\n",
       "cp          0\n",
       "trtbps      0\n",
       "chol        0\n",
       "fbs         0\n",
       "restecg     0\n",
       "thalachh    0\n",
       "exng        0\n",
       "oldpeak     0\n",
       "slp         0\n",
       "caa         0\n",
       "thall       0\n",
       "output      0\n",
       "dtype: int64"
      ]
     },
     "execution_count": 57,
     "metadata": {},
     "output_type": "execute_result"
    }
   ],
   "source": [
    "heart['caa'] = heartrecordimp['caa'].astype(int)\n",
    "heart['thall'] = heartrecordimp['thall'].astype(int)\n",
    "heart.isna().sum()"
   ]
  },
  {
   "cell_type": "markdown",
   "metadata": {},
   "source": [
    "Para tener una mejor interpretación en el análisis de datos, se reemplazará los valores categóricos numéricos por valores de caracteres, como se muestra a continuación:"
   ]
  },
  {
   "cell_type": "code",
   "execution_count": 8,
   "metadata": {},
   "outputs": [],
   "source": [
    "df_heart = heart.copy()\n",
    "df_heart['sex'] = heart.sex.replace({0: \"Female\", 1: \"Male\"})\n",
    "df_heart['cp'] = heart.cp.replace({0: \"Typical Angina\", \n",
    "                          1: \"Atypical Angina\", \n",
    "                          2: \"Non-Anginal Pain\",\n",
    "                          3: \"Symptomatic\"})\n",
    "df_heart['fbs'] = heart.fbs.replace({0: \"False\", 1: \"True\"})\n",
    "df_heart['restecg'] = heart.restecg.replace({0: \"normal\", 1: \"ST-T Wave Abnormality\", 2: \"Left Ventricular Hypertrophy\"})\n",
    "df_heart['exng'] = heart.exng.replace({1: \"Yes\", 0: \"No\"})\n",
    "df_heart['slp'] = heart.slp.replace({0: \"Upsloping\", 1: \"Flat\", 2:\"Downsloping\"})\n",
    "df_heart['caa'] = heart.caa.replace({0: \"0\", 1: \"1\", 2: \"2\", 3: \"3\"})\n",
    "df_heart['thall'] = heart.thall.replace({0: \"Null\", 1: \"Fixed Defect\", 2: \"Reversible Defect\", 3: \"Normal\"})\n",
    "# df_heart['output'] = heart.output.replace({1: \"Heart Disease\", 0: \"No Heart Disease\"})"
   ]
  },
  {
   "cell_type": "code",
   "execution_count": 59,
   "metadata": {},
   "outputs": [
    {
     "data": {
      "text/plain": [
       "age          41\n",
       "sex           2\n",
       "cp            4\n",
       "trtbps       49\n",
       "chol        152\n",
       "fbs           2\n",
       "restecg       3\n",
       "thalachh     91\n",
       "exng          2\n",
       "oldpeak      40\n",
       "slp           3\n",
       "caa           4\n",
       "thall         3\n",
       "output        2\n",
       "dtype: int64"
      ]
     },
     "execution_count": 59,
     "metadata": {},
     "output_type": "execute_result"
    }
   ],
   "source": [
    "df_heart.nunique()"
   ]
  },
  {
   "cell_type": "code",
   "execution_count": 60,
   "metadata": {},
   "outputs": [
    {
     "data": {
      "text/html": [
       "<div>\n",
       "<style scoped>\n",
       "    .dataframe tbody tr th:only-of-type {\n",
       "        vertical-align: middle;\n",
       "    }\n",
       "\n",
       "    .dataframe tbody tr th {\n",
       "        vertical-align: top;\n",
       "    }\n",
       "\n",
       "    .dataframe thead th {\n",
       "        text-align: right;\n",
       "    }\n",
       "</style>\n",
       "<table border=\"1\" class=\"dataframe\">\n",
       "  <thead>\n",
       "    <tr style=\"text-align: right;\">\n",
       "      <th></th>\n",
       "      <th>age</th>\n",
       "      <th>sex</th>\n",
       "      <th>cp</th>\n",
       "      <th>trtbps</th>\n",
       "      <th>chol</th>\n",
       "      <th>fbs</th>\n",
       "      <th>restecg</th>\n",
       "      <th>thalachh</th>\n",
       "      <th>exng</th>\n",
       "      <th>oldpeak</th>\n",
       "      <th>slp</th>\n",
       "      <th>caa</th>\n",
       "      <th>thall</th>\n",
       "      <th>output</th>\n",
       "    </tr>\n",
       "  </thead>\n",
       "  <tbody>\n",
       "    <tr>\n",
       "      <th>0</th>\n",
       "      <td>63</td>\n",
       "      <td>Male</td>\n",
       "      <td>Symptomatic</td>\n",
       "      <td>145</td>\n",
       "      <td>233</td>\n",
       "      <td>True</td>\n",
       "      <td>normal</td>\n",
       "      <td>150</td>\n",
       "      <td>No</td>\n",
       "      <td>2.3</td>\n",
       "      <td>Upsloping</td>\n",
       "      <td>0</td>\n",
       "      <td>Fixed Defect</td>\n",
       "      <td>Heart Disease</td>\n",
       "    </tr>\n",
       "    <tr>\n",
       "      <th>1</th>\n",
       "      <td>37</td>\n",
       "      <td>Male</td>\n",
       "      <td>Non-Anginal Pain</td>\n",
       "      <td>130</td>\n",
       "      <td>250</td>\n",
       "      <td>False</td>\n",
       "      <td>ST-T Wave Abnormality</td>\n",
       "      <td>187</td>\n",
       "      <td>No</td>\n",
       "      <td>3.5</td>\n",
       "      <td>Upsloping</td>\n",
       "      <td>0</td>\n",
       "      <td>Reversible Defect</td>\n",
       "      <td>Heart Disease</td>\n",
       "    </tr>\n",
       "    <tr>\n",
       "      <th>2</th>\n",
       "      <td>41</td>\n",
       "      <td>Female</td>\n",
       "      <td>Atypical Angina</td>\n",
       "      <td>130</td>\n",
       "      <td>204</td>\n",
       "      <td>False</td>\n",
       "      <td>normal</td>\n",
       "      <td>172</td>\n",
       "      <td>No</td>\n",
       "      <td>1.4</td>\n",
       "      <td>Downsloping</td>\n",
       "      <td>0</td>\n",
       "      <td>Reversible Defect</td>\n",
       "      <td>Heart Disease</td>\n",
       "    </tr>\n",
       "    <tr>\n",
       "      <th>3</th>\n",
       "      <td>56</td>\n",
       "      <td>Male</td>\n",
       "      <td>Atypical Angina</td>\n",
       "      <td>120</td>\n",
       "      <td>236</td>\n",
       "      <td>False</td>\n",
       "      <td>ST-T Wave Abnormality</td>\n",
       "      <td>178</td>\n",
       "      <td>No</td>\n",
       "      <td>0.8</td>\n",
       "      <td>Downsloping</td>\n",
       "      <td>0</td>\n",
       "      <td>Reversible Defect</td>\n",
       "      <td>Heart Disease</td>\n",
       "    </tr>\n",
       "    <tr>\n",
       "      <th>4</th>\n",
       "      <td>57</td>\n",
       "      <td>Female</td>\n",
       "      <td>Typical Angina</td>\n",
       "      <td>120</td>\n",
       "      <td>354</td>\n",
       "      <td>False</td>\n",
       "      <td>ST-T Wave Abnormality</td>\n",
       "      <td>163</td>\n",
       "      <td>Yes</td>\n",
       "      <td>0.6</td>\n",
       "      <td>Downsloping</td>\n",
       "      <td>0</td>\n",
       "      <td>Reversible Defect</td>\n",
       "      <td>Heart Disease</td>\n",
       "    </tr>\n",
       "  </tbody>\n",
       "</table>\n",
       "</div>"
      ],
      "text/plain": [
       "   age     sex                cp  trtbps  chol    fbs                restecg  \\\n",
       "0   63    Male       Symptomatic     145   233   True                 normal   \n",
       "1   37    Male  Non-Anginal Pain     130   250  False  ST-T Wave Abnormality   \n",
       "2   41  Female   Atypical Angina     130   204  False                 normal   \n",
       "3   56    Male   Atypical Angina     120   236  False  ST-T Wave Abnormality   \n",
       "4   57  Female    Typical Angina     120   354  False  ST-T Wave Abnormality   \n",
       "\n",
       "   thalachh exng  oldpeak          slp caa              thall         output  \n",
       "0       150   No      2.3    Upsloping   0       Fixed Defect  Heart Disease  \n",
       "1       187   No      3.5    Upsloping   0  Reversible Defect  Heart Disease  \n",
       "2       172   No      1.4  Downsloping   0  Reversible Defect  Heart Disease  \n",
       "3       178   No      0.8  Downsloping   0  Reversible Defect  Heart Disease  \n",
       "4       163  Yes      0.6  Downsloping   0  Reversible Defect  Heart Disease  "
      ]
     },
     "execution_count": 60,
     "metadata": {},
     "output_type": "execute_result"
    }
   ],
   "source": [
    "df_heart.head()"
   ]
  },
  {
   "cell_type": "markdown",
   "metadata": {},
   "source": [
    "### 3.1. Valores extremos\n",
    "\n",
    "Los valores extremos o outliers son aquellos que parecen no ser congruentes sin los comparamos con el resto de los datos. Para identificarlos, se desarrolló una función llamada `detect_outliers` que se encuentran los valores a más de 1,5 veces la longitud del bigote por encima del tercer cuartil o a más de 1,5 veces la longitud del bigote por debajo del primer cuartil. Este método se utiliza en el diagrama de caja para identificar ourliers."
   ]
  },
  {
   "cell_type": "code",
   "execution_count": 9,
   "metadata": {},
   "outputs": [
    {
     "name": "stdout",
     "output_type": "stream",
     "text": [
      "age []\n",
      "trtbps [172 178 180 180 200 174 192 178 180]\n",
      "chol [417 564 394 407 409]\n",
      "thalachh [71]\n",
      "oldpeak [4.2 6.2 5.6 4.2 4.4]\n"
     ]
    }
   ],
   "source": [
    "def detect_outliers(df, col):\n",
    "    q1, q3 = df[col].quantile([0.25, 0.75])\n",
    "    iqr = q3 - q1\n",
    "    \n",
    "    outliers = df[(df[col] < q1 - 1.5 * iqr) | (df[col] > q3 + 1.5 * iqr)]\n",
    "    \n",
    "    print(f'{col}',outliers[col].values)\n",
    "\n",
    "numeric_variables = ['age', 'trtbps', 'chol', 'thalachh', 'oldpeak']\n",
    "\n",
    "for col in numeric_variables:\n",
    "    detect_outliers(df_heart, col)"
   ]
  },
  {
   "cell_type": "markdown",
   "metadata": {},
   "source": [
    "No se encontraron valores extrenos en la edad. Sin embargo, los valores encontrados en la variables presión arterial en reposo, colesterol, frecuencia cardíaca máxima y pico anterior pueden ser valores que perfectamente pueden darse.\n",
    "\n",
    "Es importante tener en cuenta que la detección de outliers es subjetiva y puede variar según el método utilizado y los criterios establecidos para determinar qué valores son considerados outliers."
   ]
  },
  {
   "cell_type": "markdown",
   "metadata": {},
   "source": [
    "## 4. Análisis de los datos"
   ]
  },
  {
   "cell_type": "markdown",
   "metadata": {},
   "source": [
    "### Comprobación de la normalidad y homogeneidad de la varianza\n",
    "\n",
    "Para la comprobación de que los valores que toman nuestras variables cuantitativas provienen de una población distribuida normalmente, utilizaremos la prueba de normalidad de Shapiro-Wilk.\n",
    "\n",
    "Así, se comprueba que para que cada prueba se obtiene un p-valor superior al nivel de significación prefijado α = 0, 05. Si esto se cumple, entonces se considera que variable en cuestión sigue una distribución normal."
   ]
  },
  {
   "cell_type": "code",
   "execution_count": 12,
   "metadata": {},
   "outputs": [
    {
     "name": "stdout",
     "output_type": "stream",
     "text": [
      "age: 0.0058014095\n",
      "trtbps: 0.0000014580\n",
      "chol: 0.0000000054\n",
      "thalachh: 0.0000662033\n",
      "oldpeak: 0.0000000000\n"
     ]
    }
   ],
   "source": [
    "for field in numeric_variables:\n",
    "    _, p_value = shapiro(df_heart[field])\n",
    "    print('%s: %.10f' % (field, p_value))"
   ]
  },
  {
   "cell_type": "markdown",
   "metadata": {},
   "source": [
    "Como se ha comprobado, ninguna de las variables cuantitativas sigue una distribución normal."
   ]
  },
  {
   "cell_type": "markdown",
   "metadata": {},
   "source": [
    " ### ¿Qué variables influyen más en el riesgo de padecer un infarto?\n",
    " \n",
    "En primer lugar, procedemos a realizar un análisis de correlación entre las distintas variables para determinar cuáles de ellas ejercen una mayor influencia sobre el riesgo de padecer un infarto. Para ello, se utilizará el coeficiente de correlación de Spearman, puesto que hemos visto que tenemos datos que no siguen una distribución normal."
   ]
  },
  {
   "cell_type": "code",
   "execution_count": 87,
   "metadata": {},
   "outputs": [
    {
     "data": {
      "text/plain": [
       "age         -0.225439\n",
       "trtbps      -0.144931\n",
       "chol        -0.085239\n",
       "thalachh     0.421741\n",
       "oldpeak     -0.430696\n",
       "output       1.000000\n",
       "age_bc      -0.221472\n",
       "chol_bc     -0.093119\n",
       "trtbps_bc   -0.140443\n",
       "Name: output, dtype: float64"
      ]
     },
     "execution_count": 87,
     "metadata": {},
     "output_type": "execute_result"
    }
   ],
   "source": [
    "df_heart.corr()['output']"
   ]
  },
  {
   "cell_type": "markdown",
   "metadata": {},
   "source": [
    "Así, identificamos cuáles son las variables más correlacionadas con el precio en función de su proximidad con los valores -1 y +1. Teniendo esto en cuenta, ninguna variable tiene una correlación significativa con la probabilidad de riesgo de padecer un infarto."
   ]
  },
  {
   "cell_type": "markdown",
   "metadata": {},
   "source": [
    "###  **¿Existe una diferencia estadísticamente significativa en la edad entre las personas con y sin infarto?**\n",
    "\n",
    "La edad es un factor de riesgo conocido para el infarto, por lo que si se encuentra una diferencia significativa en la edad entre las personas con y sin infarto, se puede inferir que la edad es un factor importante en el desarrollo del infarto.\n",
    "\n",
    "En este caso, utilizaremos un histograma para representar la distribución de las edades de las personas con infarto y sin infarto. En el eje `x` representan las edades y en el eje `y` representa el porcentaje de personas que caen dentro de ese rango."
   ]
  },
  {
   "cell_type": "code",
   "execution_count": 46,
   "metadata": {},
   "outputs": [
    {
     "data": {
      "image/png": "[encoded data removed]",
      "text/plain": [
       "<Figure size 576x360 with 1 Axes>"
      ]
     },
     "metadata": {
      "needs_background": "light"
     },
     "output_type": "display_data"
    }
   ],
   "source": [
    "plt.figure(figsize=(8,5))\n",
    "plt.hist(df_heart[df_heart['output'] == 1]['age'], bins=20, alpha=0.5, label='infarto')\n",
    "plt.hist(df_heart[df_heart['output'] == 0]['age'], bins=20, alpha=0.5, label='sin infarto')\n",
    "plt.xlabel('Age')\n",
    "plt.ylabel('Frequency')\n",
    "plt.legend(loc='upper right')\n",
    "plt.show()"
   ]
  },
  {
   "cell_type": "markdown",
   "metadata": {},
   "source": [
    "En el histograma de personas con riesgo a infartos se observan tres picos en las edades de 40 a 45 años, de 50 a 55 años y de 60 a 65 años. Esto puede indicar que hay una mayor probabilidad de sufrir un infarto en esos rangos de edad.\n",
    "\n",
    "Por otro lado, en el histograma de personas sin riesgos se observa un pico en las edades de 55 a 65 años. Esto puede indicar que hay una menor probabilidad de sufrir un infarto en esos rangos de edad.\n",
    "\n",
    "Es importante tener en cuenta que las conclusiones deben ser contrastadas con otras variables y análisis estadísticos para poder determinar si realmente existe una relación entre la edad y el riesgo de infarto."
   ]
  },
  {
   "cell_type": "markdown",
   "metadata": {},
   "source": [
    "Por las razones anteriormente descritas, se realizará un test t de Student para determinar si hay una diferencia significativa entre las medias de la edad de personas con infarto y la edad de personas sin infarto.\n",
    "\n",
    "Se debe destacar que un test paramétrico como el que a continuación se utiliza necesita que los datos sean normales, si la muestra es de tamaño inferior a 30. Como en nuestro caso, n > 30, el contraste de hipótesis siguiente es válido.\n",
    "\n",
    "Tendremos dos muestras: la primera de ellas se corresponderá a las edades de las personas con riesgo de un informato y la otras las edades de las personas sin riesgos de un infarto."
   ]
  },
  {
   "cell_type": "code",
   "execution_count": 42,
   "metadata": {},
   "outputs": [],
   "source": [
    "infarto = df_heart[df_heart['output'] == 1]\n",
    "sin_infarto = df_heart[df_heart['output'] == 0]"
   ]
  },
  {
   "cell_type": "markdown",
   "metadata": {},
   "source": [
    "Así, se plantea el siguiente contraste de hipótesis de dos muestras sobre la diferencia de medias. La formulación de la hipótesis alternativa es la siguiente:\n",
    "\n",
    "$$\n",
    "H_0: \\mu_1 = \\mu_2 \\\\\n",
    "H_A: \\mu_1 \\neq \\mu_2\n",
    "$$\n",
    "\n",
    "donde $\\mu_1$ es la media de las edades de la primera muestra y $\\mu_2$ es la media de las edades de la segunda muestra. Así, tomaremos α = 0.05."
   ]
  },
  {
   "cell_type": "code",
   "execution_count": 43,
   "metadata": {},
   "outputs": [
    {
     "name": "stdout",
     "output_type": "stream",
     "text": [
      "El valor del test t es: -4.014560975148874\n",
      "El valor p es: 7.524801303442373e-05\n",
      "Hay diferencias estadísticamente significativas en la edad entre las personas con y sin infarto\n"
     ]
    }
   ],
   "source": [
    "# Seleccionar las edades de las personas con infarto\n",
    "edad_con_infarto = infarto[\"age\"]\n",
    "\n",
    "# Seleccionar las edades de las personas sin infarto\n",
    "edad_sin_infarto = sin_infarto[\"age\"]\n",
    "\n",
    "# Realizar el test de t de Student\n",
    "t, p = ttest_ind(edad_con_infarto, edad_sin_infarto)\n",
    "\n",
    "print(\"El valor del test t es:\", t)\n",
    "print(\"El valor p es:\", p)\n",
    "if p < 0.05:\n",
    "    print(\"Hay diferencias estadísticamente significativas en la edad entre las personas con y sin infarto\")\n",
    "else:\n",
    "    print(\"No hay diferencias estadísticamente significativas en la edad entre las personas con y sin infarto\")"
   ]
  },
  {
   "cell_type": "markdown",
   "metadata": {},
   "source": [
    "Se ha rechazado la hipótesis nula y se ha concluido que existe una diferencia estadísticamente significativa en la edad entre las personas con y sin infarto en este dataset. Esto quiere decir que la variable `age` es un factor relevante en la relación con la posibilidad de infarto en el dataset estudiado."
   ]
  },
  {
   "cell_type": "markdown",
   "metadata": {},
   "source": [
    "### ¿Existe una relación entre el tipo de dolor en el pecho y la posibilidad de infarto en este dataset?\n",
    "\n",
    "Estudiar la relación entre el tipo de dolor en el pecho y la posibilidad de infarto es importante ya que permitirá identificación temprana de pacientes en riesgo. Identificar pacientes con algún dolor en el pecho puede permitir a los médicos intervenir tempranamente y prevenir o tratar el infarto antes de que ocurra.\n",
    "\n",
    "Utilizaremos un gráfico de barras para estudiar la relación entre el tipo de dolor en el pecho y la posibilidad de infarto. En el eje `x` se muestran los tipos de dolor en el pecho, en el eje `y` la proporción de pacientes con infarto.\n"
   ]
  },
  {
   "cell_type": "code",
   "execution_count": 51,
   "metadata": {},
   "outputs": [
    {
     "data": {
      "image/png": "[encoded data removed]",
      "text/plain": [
       "<Figure size 432x288 with 1 Axes>"
      ]
     },
     "metadata": {
      "needs_background": "light"
     },
     "output_type": "display_data"
    }
   ],
   "source": [
    "cp_table = pd.crosstab(df_heart[\"cp\"], df_heart[\"output\"])\n",
    "\n",
    "prop = cp_table.div(cp_table.sum(1), axis=0)\n",
    "prop.plot(kind=\"bar\", stacked=True)\n",
    "plt.title(\"Proporción de pacientes con infarto en cada categoría de la variable 'cp'\")\n",
    "plt.xlabel(\"Tipo de dolor en el pecho (cp)\")\n",
    "plt.ylabel(\"Proporción de pacientes con infarto\")\n",
    "plt.show()"
   ]
  },
  {
   "cell_type": "markdown",
   "metadata": {},
   "source": [
    "Se observa que existe una mayor proporción de pacientes con riesgo de infarto en las categorías de \"angina atípica\" y \"dolor no anginoso\" en comparación con las demás categorías. Esto indica que los pacientes con dolores de tipo angina atípica y dolor no anginoso tienen un mayor riesgo de infarto en comparación con los pacientes con dolores de otros tipos. Esto podría ser un indicador importante para la detección temprana y el tratamiento de pacientes con riesgo de infarto."
   ]
  },
  {
   "cell_type": "markdown",
   "metadata": {},
   "source": [
    "El test chi-cuadrado se utiliza para determinar si hay una diferencia significativa entre variables categóricas. Por esta razón,  se va a utilizar el test chi-cuadrado para determinar si hay una diferencia significativa en la distribución de pacientes con infarto entre las diferentes categorías de la variable `cp`."
   ]
  },
  {
   "cell_type": "code",
   "execution_count": 55,
   "metadata": {},
   "outputs": [
    {
     "name": "stdout",
     "output_type": "stream",
     "text": [
      "El valor p es: 1.3343043373050064e-17\n",
      "Existe una relación estadísticamente significativa entre la variable 'cp' y la variable 'output'.\n"
     ]
    }
   ],
   "source": [
    "cp_table = pd.crosstab(df_heart[\"cp\"], df_heart[\"output\"])\n",
    "\n",
    "# Realizar el test chi-cuadrado de independencia\n",
    "chi2, p, dof, expected = chi2_contingency(cp_table)\n",
    "\n",
    "print(\"El valor p es:\", p)\n",
    "if p < 0.05:\n",
    "    print(\"Existe una relación estadísticamente significativa entre la variable 'cp' y la variable 'output'.\")\n",
    "else:\n",
    "    print(\"No existe una relación estadísticamente significativa entre la variable 'cp' y la variable 'output'.\")"
   ]
  },
  {
   "cell_type": "markdown",
   "metadata": {},
   "source": [
    "En este caso, el valor p de 1.3343043373050064e-17 es extremadamente pequeño, lo que sugiere que es altamente improbable que los resultados observados en la relación entre el tipo de dolor en el pecho y la posibilidad de infarto se deban al azar. Por lo tanto, se puede concluir que existe una relación estadísticamente significativa entre el tipo de dolor en el pecho y la posibilidad de infarto en este dataset."
   ]
  },
  {
   "cell_type": "markdown",
   "metadata": {},
   "source": [
    "### Comparar la presión arterial en reposo entre individuos con diferentes niveles de colesterol\n",
    "\n",
    "La presión arterial en reposo es un factor importante en la prevención y el tratamiento de la enfermedad cardiovascular, por lo que conocer si existen diferencias en este indicador entre individuos con diferentes niveles de colesterol puede ser útil para mejorar la atención médica y la prevención de enfermedades cardiovasculares.\n",
    "\n",
    "Según la American Heart Association (AHA), los niveles de colesterol se clasifican de la siguiente manera:\n",
    "\n",
    "* Colesterol total deseable: menor de 200 mg/dL\n",
    "* Nivel alto: 200-239 mg/dL\n",
    "* Nivel muy alto: 240 mg/dL o más\n",
    "\n",
    "\n",
    "Para explorar los datos se utilizará el gráfico de cajas. Este tipo de gráfico permitirá visualizar la distribución de los datos de presión arterial en reposo para cada grupo de niveles de colesterol y comparar fácilmente las medias y los rangos de los datos entre los grupos. En el eje `x` se mostrará los datos de colesterol alto y bajo, y en el eje `y` los niveles de la precisión arterial."
   ]
  },
  {
   "cell_type": "code",
   "execution_count": 63,
   "metadata": {},
   "outputs": [
    {
     "data": {
      "image/png": "[encoded data removed]",
      "text/plain": [
       "<Figure size 720x432 with 1 Axes>"
      ]
     },
     "metadata": {
      "needs_background": "light"
     },
     "output_type": "display_data"
    }
   ],
   "source": [
    "df_heart[\"chol_group\"] = np.where(df_heart[\"chol\"] < 200, \"low\", \"high\")\n",
    "\n",
    "plt.figure(figsize=(10,6))\n",
    "sns.boxplot(x=\"chol_group\", y=\"trtbps\", data=df_heart)\n",
    "plt.show()"
   ]
  },
  {
   "cell_type": "markdown",
   "metadata": {},
   "source": [
    "Las medias de presión arterial en reposo entre individuos con niveles bajos y altos de colesterol parecen ser iguales, es probable que no exista una diferencia estadísticamente significativa entre los grupos."
   ]
  },
  {
   "cell_type": "markdown",
   "metadata": {},
   "source": [
    "Para esta prueba se separan en dos dataset. Uno con el colesterol bajo menor a 200 mg/dL y otro con el colesterol alto mayor o igual a 200 mg/dL."
   ]
  },
  {
   "cell_type": "code",
   "execution_count": 28,
   "metadata": {},
   "outputs": [],
   "source": [
    "low_chol = df_heart[df_heart['chol'] < 200]\n",
    "high_chol = df_heart[df_heart['chol'] >= 200]"
   ]
  },
  {
   "cell_type": "markdown",
   "metadata": {},
   "source": [
    "Así, se plantea el siguiente contraste de hipótesis de dos muestras sobre la diferencia de medias. La formulación de la hipótesis alternativa es la siguiente:\n",
    "\n",
    "$$\n",
    "H_0: \\mu_1 = \\mu_2 \\\\\n",
    "H_A: \\mu_1 \\neq \\mu_2\n",
    "$$"
   ]
  },
  {
   "cell_type": "markdown",
   "metadata": {},
   "source": [
    "En las siguientes sentencias se utilizará la función `ttest_ind` de la librería scipy.stats. Se está pasando como argumentos los dos grupos de datos la presión arterial en reposo de las personas con colesterol bajo y alto."
   ]
  },
  {
   "cell_type": "code",
   "execution_count": 40,
   "metadata": {},
   "outputs": [
    {
     "name": "stdout",
     "output_type": "stream",
     "text": [
      "El valor de F es: 1.3583109790303207\n",
      "El valor p es: 0.17538219823179257\n"
     ]
    }
   ],
   "source": [
    "f_val, p_val = ttest_ind(high_chol['trtbps_bc'], low_chol['trtbps_bc'])\n",
    "\n",
    "print(\"El valor de F es:\", f_val)\n",
    "print(\"El valor p es:\", p_val)"
   ]
  },
  {
   "cell_type": "markdown",
   "metadata": {},
   "source": [
    "El p-value de 0.175 es mayor que el nivel de significancia establecido (0.05) por lo que se acepta la hipótesis nula. Se puede decir que no hay diferencias significativas entre los valores de la presión arterial en reposo en los individuos con diferentes niveles de colesterol. No hay evidencia suficiente para afirmar que exista una relación entre el nivel de colesterol y la presión arterial en reposo. No se puede afirmar que un nivel alto o bajo de colesterol tenga un efecto significativo en la presión arterial en reposo de una persona."
   ]
  },
  {
   "cell_type": "markdown",
   "metadata": {},
   "source": [
    "## 4. Conclusiones"
   ]
  },
  {
   "cell_type": "markdown",
   "metadata": {},
   "source": [
    "En resumen, el estudio del dataset sugiere que la edad es un factor relevante en la relación con la posibilidad de infarto, mientras que no se encontró una correlación significativa entre las demás variables y la probabilidad de riesgo de padecer un infarto. Sin embargo, se ha encontrado una relación estadísticamente significativa entre el tipo de dolor en el pecho y la posibilidad de infarto en el dataset. Además, no hay evidencia suficiente para afirmar que exista una relación entre el nivel de colesterol y la presión arterial en reposo."
   ]
  }
 ],
 "metadata": {
  "kernelspec": {
   "display_name": "Python 3",
   "language": "python",
   "name": "python3"
  },
  "language_info": {
   "codemirror_mode": {
    "name": "ipython",
    "version": 3
   },
   "file_extension": ".py",
   "mimetype": "text/x-python",
   "name": "python",
   "nbconvert_exporter": "python",
   "pygments_lexer": "ipython3",
   "version": "3.8.5"
  }
 },
 "nbformat": 4,
 "nbformat_minor": 4
}
